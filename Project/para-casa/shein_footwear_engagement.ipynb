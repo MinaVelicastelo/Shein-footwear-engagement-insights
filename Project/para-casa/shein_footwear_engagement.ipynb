{
 "cells": [
  {
   "cell_type": "markdown",
   "metadata": {},
   "source": [
    "# Shein footwear engagement insights"
   ]
  },
  {
   "cell_type": "markdown",
   "metadata": {},
   "source": [
    "\n",
    "- I used in this work a Kaggle dataset available here: https://www.kaggle.com/datasets/atharvataras/shein-footwear-dataset?resource=download\n",
    "- This dataframe was chosen to deal with a potential real life situation in a workday on a e-commerce company. \n",
    "- This analysis can bring valuable insights on the customer's engagement on this e-commerce in this sub-segment of footwear. "
   ]
  },
  {
   "cell_type": "code",
   "execution_count": 4,
   "metadata": {},
   "outputs": [],
   "source": [
    "#Import libraries to be used in this analysis.\n",
    "import numpy as np\n",
    "import pandas as pd\n",
    "import matplotlib.pyplot as plt\n",
    "import seaborn as sns\n",
    "import sqlite3\n",
    "from scipy.stats import spearmanr"
   ]
  },
  {
   "cell_type": "markdown",
   "metadata": {},
   "source": [
    "# ANALYSIS"
   ]
  },
  {
   "cell_type": "code",
   "execution_count": 5,
   "metadata": {},
   "outputs": [],
   "source": [
    "#Store our dataset in a variable called df(data frame)\n",
    "df = pd.read_csv(\"shein_footwear_clean.csv\")"
   ]
  },
  {
   "cell_type": "code",
   "execution_count": 6,
   "metadata": {},
   "outputs": [
    {
     "data": {
      "text/html": [
       "<div>\n",
       "<style scoped>\n",
       "    .dataframe tbody tr th:only-of-type {\n",
       "        vertical-align: middle;\n",
       "    }\n",
       "\n",
       "    .dataframe tbody tr th {\n",
       "        vertical-align: top;\n",
       "    }\n",
       "\n",
       "    .dataframe thead th {\n",
       "        text-align: right;\n",
       "    }\n",
       "</style>\n",
       "<table border=\"1\" class=\"dataframe\">\n",
       "  <thead>\n",
       "    <tr style=\"text-align: right;\">\n",
       "      <th></th>\n",
       "      <th>name</th>\n",
       "      <th>link</th>\n",
       "      <th>price_usd</th>\n",
       "      <th>mark_price_usd</th>\n",
       "      <th>star_rating</th>\n",
       "      <th>colour</th>\n",
       "      <th>seller_name</th>\n",
       "      <th>review_count</th>\n",
       "      <th>sku_id</th>\n",
       "      <th>hero_image</th>\n",
       "    </tr>\n",
       "  </thead>\n",
       "  <tbody>\n",
       "    <tr>\n",
       "      <th>0</th>\n",
       "      <td>Women's Casual Sports Shoes, Fashionable Versa...</td>\n",
       "      <td>https://us.shein.com/Women-s-Casual-Sports-Sho...</td>\n",
       "      <td>19.40</td>\n",
       "      <td>24.40</td>\n",
       "      <td>4.83</td>\n",
       "      <td>Khaki</td>\n",
       "      <td>Womens Shoes</td>\n",
       "      <td>77</td>\n",
       "      <td>sx2305270713671620</td>\n",
       "      <td>//img.ltwebstatic.com/images3_spmp/2023/12/19/...</td>\n",
       "    </tr>\n",
       "    <tr>\n",
       "      <th>1</th>\n",
       "      <td>2024 New Spring/Autumn Women Breathable Mesh H...</td>\n",
       "      <td>https://us.shein.com/2024-New-Spring-Autumn-Wo...</td>\n",
       "      <td>14.90</td>\n",
       "      <td>18.80</td>\n",
       "      <td>0.00</td>\n",
       "      <td>NaN</td>\n",
       "      <td>Limeiya Factory</td>\n",
       "      <td>0</td>\n",
       "      <td>sx2404088145930048</td>\n",
       "      <td>//img.ltwebstatic.com/images3_pi/2024/04/17/55...</td>\n",
       "    </tr>\n",
       "    <tr>\n",
       "      <th>2</th>\n",
       "      <td>Women's Casual Slip-on Flat Skate Shoes With A...</td>\n",
       "      <td>https://us.shein.com/Women-s-Casual-Slip-on-Fl...</td>\n",
       "      <td>7.50</td>\n",
       "      <td>18.80</td>\n",
       "      <td>4.92</td>\n",
       "      <td>NaN</td>\n",
       "      <td>Dawanfu</td>\n",
       "      <td>66</td>\n",
       "      <td>sx2309025401152825</td>\n",
       "      <td>//img.ltwebstatic.com/images3_pi/2023/09/04/a0...</td>\n",
       "    </tr>\n",
       "    <tr>\n",
       "      <th>3</th>\n",
       "      <td>Women Mesh Breathable Casual Shoes, Soft Non-S...</td>\n",
       "      <td>https://us.shein.com/Women-Mesh-Breathable-Cas...</td>\n",
       "      <td>12.06</td>\n",
       "      <td>21.30</td>\n",
       "      <td>0.00</td>\n",
       "      <td>Purple</td>\n",
       "      <td>NaN</td>\n",
       "      <td>41</td>\n",
       "      <td>sx2308191847675463</td>\n",
       "      <td>//img.ltwebstatic.com/images3_spmp/2023/08/19/...</td>\n",
       "    </tr>\n",
       "    <tr>\n",
       "      <th>4</th>\n",
       "      <td>Women's Fashionable Casual Sneakers</td>\n",
       "      <td>https://us.shein.com/Women-s-Fashionable-Casua...</td>\n",
       "      <td>13.53</td>\n",
       "      <td>17.05</td>\n",
       "      <td>0.00</td>\n",
       "      <td>Grey</td>\n",
       "      <td>NaN</td>\n",
       "      <td>100+</td>\n",
       "      <td>sx2307234044444164</td>\n",
       "      <td>//img.ltwebstatic.com/images3_spmp/2023/12/31/...</td>\n",
       "    </tr>\n",
       "    <tr>\n",
       "      <th>5</th>\n",
       "      <td>Sporty Chunky Sneakers For Women, Letter Graph...</td>\n",
       "      <td>https://us.shein.com/Sporty-Chunky-Sneakers-Fo...</td>\n",
       "      <td>21.30</td>\n",
       "      <td>26.90</td>\n",
       "      <td>0.00</td>\n",
       "      <td>White</td>\n",
       "      <td>NaN</td>\n",
       "      <td>500+</td>\n",
       "      <td>sx2211274466519128</td>\n",
       "      <td>//img.ltwebstatic.com/images3_pi/2023/04/07/16...</td>\n",
       "    </tr>\n",
       "    <tr>\n",
       "      <th>6</th>\n",
       "      <td>Summer Women Casual Sports Shoes Slip-On Hollo...</td>\n",
       "      <td>https://us.shein.com/Summer-Women-Casual-Sport...</td>\n",
       "      <td>14.90</td>\n",
       "      <td>14.90</td>\n",
       "      <td>0.00</td>\n",
       "      <td>Beige</td>\n",
       "      <td>NaN</td>\n",
       "      <td>0</td>\n",
       "      <td>st2404138888746786</td>\n",
       "      <td>//img.ltwebstatic.com/images3_spmp/2024/04/13/...</td>\n",
       "    </tr>\n",
       "    <tr>\n",
       "      <th>7</th>\n",
       "      <td>Comfortable Thick-Soled One Foot Slip-On Rocki...</td>\n",
       "      <td>https://us.shein.com/Comfortable-Thick-Soled-O...</td>\n",
       "      <td>16.90</td>\n",
       "      <td>21.20</td>\n",
       "      <td>0.00</td>\n",
       "      <td>Khaki</td>\n",
       "      <td>NaN</td>\n",
       "      <td>500+</td>\n",
       "      <td>sx2310298141659915</td>\n",
       "      <td>//img.ltwebstatic.com/images3_pi/2024/04/16/1a...</td>\n",
       "    </tr>\n",
       "    <tr>\n",
       "      <th>8</th>\n",
       "      <td>New Spring Fashionable Casual Sports Style Thi...</td>\n",
       "      <td>https://us.shein.com/New-Spring-Fashionable-Ca...</td>\n",
       "      <td>22.90</td>\n",
       "      <td>28.80</td>\n",
       "      <td>0.00</td>\n",
       "      <td>Beige</td>\n",
       "      <td>NaN</td>\n",
       "      <td>15</td>\n",
       "      <td>sx2401318579349193</td>\n",
       "      <td>//img.ltwebstatic.com/images3_spmp/2024/01/31/...</td>\n",
       "    </tr>\n",
       "    <tr>\n",
       "      <th>9</th>\n",
       "      <td>Women Lace Up Casual Shoes, Sporty Outdoor Can...</td>\n",
       "      <td>https://us.shein.com/Women-Lace-Up-Casual-Shoe...</td>\n",
       "      <td>13.00</td>\n",
       "      <td>16.30</td>\n",
       "      <td>0.00</td>\n",
       "      <td>NaN</td>\n",
       "      <td>NaN</td>\n",
       "      <td>36</td>\n",
       "      <td>sx2302128416011119</td>\n",
       "      <td>//img.ltwebstatic.com/images3_pi/2023/02/13/16...</td>\n",
       "    </tr>\n",
       "  </tbody>\n",
       "</table>\n",
       "</div>"
      ],
      "text/plain": [
       "                                                name  \\\n",
       "0  Women's Casual Sports Shoes, Fashionable Versa...   \n",
       "1  2024 New Spring/Autumn Women Breathable Mesh H...   \n",
       "2  Women's Casual Slip-on Flat Skate Shoes With A...   \n",
       "3  Women Mesh Breathable Casual Shoes, Soft Non-S...   \n",
       "4                Women's Fashionable Casual Sneakers   \n",
       "5  Sporty Chunky Sneakers For Women, Letter Graph...   \n",
       "6  Summer Women Casual Sports Shoes Slip-On Hollo...   \n",
       "7  Comfortable Thick-Soled One Foot Slip-On Rocki...   \n",
       "8  New Spring Fashionable Casual Sports Style Thi...   \n",
       "9  Women Lace Up Casual Shoes, Sporty Outdoor Can...   \n",
       "\n",
       "                                                link  price_usd  \\\n",
       "0  https://us.shein.com/Women-s-Casual-Sports-Sho...      19.40   \n",
       "1  https://us.shein.com/2024-New-Spring-Autumn-Wo...      14.90   \n",
       "2  https://us.shein.com/Women-s-Casual-Slip-on-Fl...       7.50   \n",
       "3  https://us.shein.com/Women-Mesh-Breathable-Cas...      12.06   \n",
       "4  https://us.shein.com/Women-s-Fashionable-Casua...      13.53   \n",
       "5  https://us.shein.com/Sporty-Chunky-Sneakers-Fo...      21.30   \n",
       "6  https://us.shein.com/Summer-Women-Casual-Sport...      14.90   \n",
       "7  https://us.shein.com/Comfortable-Thick-Soled-O...      16.90   \n",
       "8  https://us.shein.com/New-Spring-Fashionable-Ca...      22.90   \n",
       "9  https://us.shein.com/Women-Lace-Up-Casual-Shoe...      13.00   \n",
       "\n",
       "   mark_price_usd  star_rating  colour      seller_name review_count  \\\n",
       "0           24.40         4.83   Khaki     Womens Shoes           77   \n",
       "1           18.80         0.00     NaN  Limeiya Factory            0   \n",
       "2           18.80         4.92     NaN          Dawanfu           66   \n",
       "3           21.30         0.00  Purple              NaN           41   \n",
       "4           17.05         0.00    Grey              NaN         100+   \n",
       "5           26.90         0.00   White              NaN         500+   \n",
       "6           14.90         0.00   Beige              NaN            0   \n",
       "7           21.20         0.00   Khaki              NaN         500+   \n",
       "8           28.80         0.00   Beige              NaN           15   \n",
       "9           16.30         0.00     NaN              NaN           36   \n",
       "\n",
       "                sku_id                                         hero_image  \n",
       "0   sx2305270713671620  //img.ltwebstatic.com/images3_spmp/2023/12/19/...  \n",
       "1   sx2404088145930048  //img.ltwebstatic.com/images3_pi/2024/04/17/55...  \n",
       "2   sx2309025401152825  //img.ltwebstatic.com/images3_pi/2023/09/04/a0...  \n",
       "3   sx2308191847675463  //img.ltwebstatic.com/images3_spmp/2023/08/19/...  \n",
       "4   sx2307234044444164  //img.ltwebstatic.com/images3_spmp/2023/12/31/...  \n",
       "5   sx2211274466519128  //img.ltwebstatic.com/images3_pi/2023/04/07/16...  \n",
       "6   st2404138888746786  //img.ltwebstatic.com/images3_spmp/2024/04/13/...  \n",
       "7   sx2310298141659915  //img.ltwebstatic.com/images3_pi/2024/04/16/1a...  \n",
       "8   sx2401318579349193  //img.ltwebstatic.com/images3_spmp/2024/01/31/...  \n",
       "9   sx2302128416011119  //img.ltwebstatic.com/images3_pi/2023/02/13/16...  "
      ]
     },
     "execution_count": 6,
     "metadata": {},
     "output_type": "execute_result"
    }
   ],
   "source": [
    "#To check if everything is ok with the dataframe and visualize it\n",
    "df.head(10)"
   ]
  },
  {
   "cell_type": "code",
   "execution_count": 7,
   "metadata": {},
   "outputs": [
    {
     "data": {
      "text/plain": [
       "(899, 10)"
      ]
     },
     "execution_count": 7,
     "metadata": {},
     "output_type": "execute_result"
    }
   ],
   "source": [
    "#Vizualize the count of rows and numbers\n",
    "df.shape"
   ]
  },
  {
   "cell_type": "code",
   "execution_count": 8,
   "metadata": {},
   "outputs": [],
   "source": [
    "#Here I backup the dataframe for safety\n",
    "df_backup = df.copy()"
   ]
  },
  {
   "cell_type": "code",
   "execution_count": 9,
   "metadata": {},
   "outputs": [
    {
     "name": "stdout",
     "output_type": "stream",
     "text": [
      "name                0\n",
      "link                0\n",
      "price_usd           0\n",
      "mark_price_usd      0\n",
      "star_rating         0\n",
      "colour            209\n",
      "seller_name       890\n",
      "review_count        0\n",
      "sku_id              0\n",
      "hero_image          0\n",
      "dtype: int64\n"
     ]
    }
   ],
   "source": [
    "#Store in a variable the number of NULL values per column.\n",
    "nulos_por_colunas = df.isnull().sum()\n",
    "print(nulos_por_colunas)"
   ]
  },
  {
   "cell_type": "code",
   "execution_count": 10,
   "metadata": {},
   "outputs": [
    {
     "name": "stdout",
     "output_type": "stream",
     "text": [
      "0      0\n",
      "1      1\n",
      "2      1\n",
      "3      1\n",
      "4      1\n",
      "      ..\n",
      "894    1\n",
      "895    1\n",
      "896    1\n",
      "897    1\n",
      "898    2\n",
      "Length: 899, dtype: int64\n"
     ]
    }
   ],
   "source": [
    "#Now I store in a variable the number of NULLS for each row\n",
    "nulos_por_linhas = df.isnull().sum(axis=1) # 'axis=1' here specifies that the sum is made horizontally\n",
    "print(nulos_por_linhas)"
   ]
  },
  {
   "cell_type": "code",
   "execution_count": 11,
   "metadata": {},
   "outputs": [
    {
     "data": {
      "text/html": [
       "<div>\n",
       "<style scoped>\n",
       "    .dataframe tbody tr th:only-of-type {\n",
       "        vertical-align: middle;\n",
       "    }\n",
       "\n",
       "    .dataframe tbody tr th {\n",
       "        vertical-align: top;\n",
       "    }\n",
       "\n",
       "    .dataframe thead th {\n",
       "        text-align: right;\n",
       "    }\n",
       "</style>\n",
       "<table border=\"1\" class=\"dataframe\">\n",
       "  <thead>\n",
       "    <tr style=\"text-align: right;\">\n",
       "      <th></th>\n",
       "      <th>price_usd</th>\n",
       "      <th>mark_price_usd</th>\n",
       "      <th>star_rating</th>\n",
       "    </tr>\n",
       "  </thead>\n",
       "  <tbody>\n",
       "    <tr>\n",
       "      <th>count</th>\n",
       "      <td>899.000000</td>\n",
       "      <td>899.000000</td>\n",
       "      <td>899.000000</td>\n",
       "    </tr>\n",
       "    <tr>\n",
       "      <th>mean</th>\n",
       "      <td>17.303537</td>\n",
       "      <td>23.231624</td>\n",
       "      <td>0.043437</td>\n",
       "    </tr>\n",
       "    <tr>\n",
       "      <th>std</th>\n",
       "      <td>15.234275</td>\n",
       "      <td>18.266408</td>\n",
       "      <td>0.458675</td>\n",
       "    </tr>\n",
       "    <tr>\n",
       "      <th>min</th>\n",
       "      <td>0.610000</td>\n",
       "      <td>2.100000</td>\n",
       "      <td>0.000000</td>\n",
       "    </tr>\n",
       "    <tr>\n",
       "      <th>25%</th>\n",
       "      <td>11.900000</td>\n",
       "      <td>16.200000</td>\n",
       "      <td>0.000000</td>\n",
       "    </tr>\n",
       "    <tr>\n",
       "      <th>50%</th>\n",
       "      <td>15.800000</td>\n",
       "      <td>21.000000</td>\n",
       "      <td>0.000000</td>\n",
       "    </tr>\n",
       "    <tr>\n",
       "      <th>75%</th>\n",
       "      <td>19.990000</td>\n",
       "      <td>26.000000</td>\n",
       "      <td>0.000000</td>\n",
       "    </tr>\n",
       "    <tr>\n",
       "      <th>max</th>\n",
       "      <td>247.500000</td>\n",
       "      <td>319.070000</td>\n",
       "      <td>4.920000</td>\n",
       "    </tr>\n",
       "  </tbody>\n",
       "</table>\n",
       "</div>"
      ],
      "text/plain": [
       "        price_usd  mark_price_usd  star_rating\n",
       "count  899.000000      899.000000   899.000000\n",
       "mean    17.303537       23.231624     0.043437\n",
       "std     15.234275       18.266408     0.458675\n",
       "min      0.610000        2.100000     0.000000\n",
       "25%     11.900000       16.200000     0.000000\n",
       "50%     15.800000       21.000000     0.000000\n",
       "75%     19.990000       26.000000     0.000000\n",
       "max    247.500000      319.070000     4.920000"
      ]
     },
     "execution_count": 11,
     "metadata": {},
     "output_type": "execute_result"
    }
   ],
   "source": [
    "#With this function I check the general information of the data frame.\n",
    "df.describe()"
   ]
  },
  {
   "cell_type": "code",
   "execution_count": 12,
   "metadata": {},
   "outputs": [
    {
     "name": "stdout",
     "output_type": "stream",
     "text": [
      "<class 'pandas.core.frame.DataFrame'>\n",
      "RangeIndex: 899 entries, 0 to 898\n",
      "Data columns (total 10 columns):\n",
      " #   Column          Non-Null Count  Dtype  \n",
      "---  ------          --------------  -----  \n",
      " 0   name            899 non-null    object \n",
      " 1   link            899 non-null    object \n",
      " 2   price_usd       899 non-null    float64\n",
      " 3   mark_price_usd  899 non-null    float64\n",
      " 4   star_rating     899 non-null    float64\n",
      " 5   colour          690 non-null    object \n",
      " 6   seller_name     9 non-null      object \n",
      " 7   review_count    899 non-null    object \n",
      " 8   sku_id          899 non-null    object \n",
      " 9   hero_image      899 non-null    object \n",
      "dtypes: float64(3), object(7)\n",
      "memory usage: 70.4+ KB\n",
      "None\n"
     ]
    }
   ],
   "source": [
    "#Now the info function is used to theck the type of the entries in this dataset\n",
    "info_df = df.info()\n",
    "print(info_df)"
   ]
  },
  {
   "cell_type": "markdown",
   "metadata": {},
   "source": [
    "# PROCESSING DATA"
   ]
  },
  {
   "cell_type": "markdown",
   "metadata": {},
   "source": [
    "- Use the Matplotlib or Seaborn library to build new graphs.\n",
    "- Create graph visualizations with pandas.\n",
    "- Make SQL queries.\n",
    "- Use the Matplotlib or Seaborn library to build new graphs.\n",
    "- Perform a hypothesis test.\n",
    "\n",
    "All to verify the relationship between customer engagement and price."
   ]
  },
  {
   "cell_type": "code",
   "execution_count": 13,
   "metadata": {},
   "outputs": [],
   "source": [
    "#this function is used to eliminate duplicates \n",
    "df = df.drop_duplicates()"
   ]
  },
  {
   "cell_type": "code",
   "execution_count": 14,
   "metadata": {},
   "outputs": [
    {
     "data": {
      "text/plain": [
       "Index(['name', 'link', 'price_usd', 'mark_price_usd', 'star_rating', 'colour',\n",
       "       'seller_name', 'review_count', 'sku_id', 'hero_image'],\n",
       "      dtype='object')"
      ]
     },
     "execution_count": 14,
     "metadata": {},
     "output_type": "execute_result"
    }
   ],
   "source": [
    "#this function output the name of all the colunns in the dataset on a list,\n",
    "#making it easy to manipulate them\n",
    "df.columns"
   ]
  },
  {
   "cell_type": "code",
   "execution_count": 15,
   "metadata": {},
   "outputs": [],
   "source": [
    "#I dropped the 'seller_name' column because it has many Null Values (890/899)\n",
    "#and it would be not valuable to our analysis.\n",
    "df = df.drop(columns=['seller_name'])"
   ]
  },
  {
   "cell_type": "code",
   "execution_count": 16,
   "metadata": {},
   "outputs": [
    {
     "data": {
      "text/plain": [
       "(899, 9)"
      ]
     },
     "execution_count": 16,
     "metadata": {},
     "output_type": "execute_result"
    }
   ],
   "source": [
    "#To verify if the column above was, in fact , removed\n",
    "df.shape"
   ]
  },
  {
   "cell_type": "code",
   "execution_count": 17,
   "metadata": {},
   "outputs": [],
   "source": [
    "#I renamed the columns names to the language use in the BootCamp I was doing.\n",
    "df.rename(columns={\n",
    "    'name': 'nome do anuncio',\n",
    "    'link': 'link do produto',\n",
    "    'price_usd':  'preço em usd',\n",
    "    'mark_price_usd': 'preço marcado',\n",
    "    'star_rating': 'classificação',\n",
    "    'colour': 'cor',\n",
    "    'review_count': 'numero de comentários',\n",
    "    'sku_id': 'Ididentificador de sku',\n",
    "    'hero_image': 'link da imagem'\n",
    "}, inplace=True)"
   ]
  },
  {
   "cell_type": "code",
   "execution_count": 18,
   "metadata": {},
   "outputs": [
    {
     "data": {
      "text/plain": [
       "Index(['nome do anuncio', 'link do produto', 'preço em usd', 'preço marcado',\n",
       "       'classificação', 'cor', 'numero de comentários',\n",
       "       'Ididentificador de sku', 'link da imagem'],\n",
       "      dtype='object')"
      ]
     },
     "execution_count": 18,
     "metadata": {},
     "output_type": "execute_result"
    }
   ],
   "source": [
    "#Verify the translation\n",
    "df.columns"
   ]
  },
  {
   "cell_type": "code",
   "execution_count": 19,
   "metadata": {},
   "outputs": [],
   "source": [
    "#Save the dataset in a CSV file. 'index=False'is to save the document without \n",
    "#the index column to make it more clear\n",
    "df.to_csv('shein_tratado.csv', index=False)"
   ]
  },
  {
   "cell_type": "code",
   "execution_count": 20,
   "metadata": {},
   "outputs": [
    {
     "data": {
      "text/html": [
       "<div>\n",
       "<style scoped>\n",
       "    .dataframe tbody tr th:only-of-type {\n",
       "        vertical-align: middle;\n",
       "    }\n",
       "\n",
       "    .dataframe tbody tr th {\n",
       "        vertical-align: top;\n",
       "    }\n",
       "\n",
       "    .dataframe thead th {\n",
       "        text-align: right;\n",
       "    }\n",
       "</style>\n",
       "<table border=\"1\" class=\"dataframe\">\n",
       "  <thead>\n",
       "    <tr style=\"text-align: right;\">\n",
       "      <th></th>\n",
       "      <th>nome do anuncio</th>\n",
       "      <th>link do produto</th>\n",
       "      <th>preço em usd</th>\n",
       "      <th>preço marcado</th>\n",
       "      <th>classificação</th>\n",
       "      <th>cor</th>\n",
       "      <th>numero de comentários</th>\n",
       "      <th>Ididentificador de sku</th>\n",
       "      <th>link da imagem</th>\n",
       "    </tr>\n",
       "  </thead>\n",
       "  <tbody>\n",
       "    <tr>\n",
       "      <th>0</th>\n",
       "      <td>Women's Casual Sports Shoes, Fashionable Versa...</td>\n",
       "      <td>https://us.shein.com/Women-s-Casual-Sports-Sho...</td>\n",
       "      <td>19.40</td>\n",
       "      <td>24.40</td>\n",
       "      <td>4.83</td>\n",
       "      <td>Khaki</td>\n",
       "      <td>77</td>\n",
       "      <td>sx2305270713671620</td>\n",
       "      <td>//img.ltwebstatic.com/images3_spmp/2023/12/19/...</td>\n",
       "    </tr>\n",
       "    <tr>\n",
       "      <th>1</th>\n",
       "      <td>2024 New Spring/Autumn Women Breathable Mesh H...</td>\n",
       "      <td>https://us.shein.com/2024-New-Spring-Autumn-Wo...</td>\n",
       "      <td>14.90</td>\n",
       "      <td>18.80</td>\n",
       "      <td>0.00</td>\n",
       "      <td>NaN</td>\n",
       "      <td>0</td>\n",
       "      <td>sx2404088145930048</td>\n",
       "      <td>//img.ltwebstatic.com/images3_pi/2024/04/17/55...</td>\n",
       "    </tr>\n",
       "    <tr>\n",
       "      <th>2</th>\n",
       "      <td>Women's Casual Slip-on Flat Skate Shoes With A...</td>\n",
       "      <td>https://us.shein.com/Women-s-Casual-Slip-on-Fl...</td>\n",
       "      <td>7.50</td>\n",
       "      <td>18.80</td>\n",
       "      <td>4.92</td>\n",
       "      <td>NaN</td>\n",
       "      <td>66</td>\n",
       "      <td>sx2309025401152825</td>\n",
       "      <td>//img.ltwebstatic.com/images3_pi/2023/09/04/a0...</td>\n",
       "    </tr>\n",
       "    <tr>\n",
       "      <th>3</th>\n",
       "      <td>Women Mesh Breathable Casual Shoes, Soft Non-S...</td>\n",
       "      <td>https://us.shein.com/Women-Mesh-Breathable-Cas...</td>\n",
       "      <td>12.06</td>\n",
       "      <td>21.30</td>\n",
       "      <td>0.00</td>\n",
       "      <td>Purple</td>\n",
       "      <td>41</td>\n",
       "      <td>sx2308191847675463</td>\n",
       "      <td>//img.ltwebstatic.com/images3_spmp/2023/08/19/...</td>\n",
       "    </tr>\n",
       "    <tr>\n",
       "      <th>4</th>\n",
       "      <td>Women's Fashionable Casual Sneakers</td>\n",
       "      <td>https://us.shein.com/Women-s-Fashionable-Casua...</td>\n",
       "      <td>13.53</td>\n",
       "      <td>17.05</td>\n",
       "      <td>0.00</td>\n",
       "      <td>Grey</td>\n",
       "      <td>100+</td>\n",
       "      <td>sx2307234044444164</td>\n",
       "      <td>//img.ltwebstatic.com/images3_spmp/2023/12/31/...</td>\n",
       "    </tr>\n",
       "    <tr>\n",
       "      <th>5</th>\n",
       "      <td>Sporty Chunky Sneakers For Women, Letter Graph...</td>\n",
       "      <td>https://us.shein.com/Sporty-Chunky-Sneakers-Fo...</td>\n",
       "      <td>21.30</td>\n",
       "      <td>26.90</td>\n",
       "      <td>0.00</td>\n",
       "      <td>White</td>\n",
       "      <td>500+</td>\n",
       "      <td>sx2211274466519128</td>\n",
       "      <td>//img.ltwebstatic.com/images3_pi/2023/04/07/16...</td>\n",
       "    </tr>\n",
       "    <tr>\n",
       "      <th>6</th>\n",
       "      <td>Summer Women Casual Sports Shoes Slip-On Hollo...</td>\n",
       "      <td>https://us.shein.com/Summer-Women-Casual-Sport...</td>\n",
       "      <td>14.90</td>\n",
       "      <td>14.90</td>\n",
       "      <td>0.00</td>\n",
       "      <td>Beige</td>\n",
       "      <td>0</td>\n",
       "      <td>st2404138888746786</td>\n",
       "      <td>//img.ltwebstatic.com/images3_spmp/2024/04/13/...</td>\n",
       "    </tr>\n",
       "    <tr>\n",
       "      <th>7</th>\n",
       "      <td>Comfortable Thick-Soled One Foot Slip-On Rocki...</td>\n",
       "      <td>https://us.shein.com/Comfortable-Thick-Soled-O...</td>\n",
       "      <td>16.90</td>\n",
       "      <td>21.20</td>\n",
       "      <td>0.00</td>\n",
       "      <td>Khaki</td>\n",
       "      <td>500+</td>\n",
       "      <td>sx2310298141659915</td>\n",
       "      <td>//img.ltwebstatic.com/images3_pi/2024/04/16/1a...</td>\n",
       "    </tr>\n",
       "    <tr>\n",
       "      <th>8</th>\n",
       "      <td>New Spring Fashionable Casual Sports Style Thi...</td>\n",
       "      <td>https://us.shein.com/New-Spring-Fashionable-Ca...</td>\n",
       "      <td>22.90</td>\n",
       "      <td>28.80</td>\n",
       "      <td>0.00</td>\n",
       "      <td>Beige</td>\n",
       "      <td>15</td>\n",
       "      <td>sx2401318579349193</td>\n",
       "      <td>//img.ltwebstatic.com/images3_spmp/2024/01/31/...</td>\n",
       "    </tr>\n",
       "    <tr>\n",
       "      <th>9</th>\n",
       "      <td>Women Lace Up Casual Shoes, Sporty Outdoor Can...</td>\n",
       "      <td>https://us.shein.com/Women-Lace-Up-Casual-Shoe...</td>\n",
       "      <td>13.00</td>\n",
       "      <td>16.30</td>\n",
       "      <td>0.00</td>\n",
       "      <td>NaN</td>\n",
       "      <td>36</td>\n",
       "      <td>sx2302128416011119</td>\n",
       "      <td>//img.ltwebstatic.com/images3_pi/2023/02/13/16...</td>\n",
       "    </tr>\n",
       "  </tbody>\n",
       "</table>\n",
       "</div>"
      ],
      "text/plain": [
       "                                     nome do anuncio  \\\n",
       "0  Women's Casual Sports Shoes, Fashionable Versa...   \n",
       "1  2024 New Spring/Autumn Women Breathable Mesh H...   \n",
       "2  Women's Casual Slip-on Flat Skate Shoes With A...   \n",
       "3  Women Mesh Breathable Casual Shoes, Soft Non-S...   \n",
       "4                Women's Fashionable Casual Sneakers   \n",
       "5  Sporty Chunky Sneakers For Women, Letter Graph...   \n",
       "6  Summer Women Casual Sports Shoes Slip-On Hollo...   \n",
       "7  Comfortable Thick-Soled One Foot Slip-On Rocki...   \n",
       "8  New Spring Fashionable Casual Sports Style Thi...   \n",
       "9  Women Lace Up Casual Shoes, Sporty Outdoor Can...   \n",
       "\n",
       "                                     link do produto  preço em usd  \\\n",
       "0  https://us.shein.com/Women-s-Casual-Sports-Sho...         19.40   \n",
       "1  https://us.shein.com/2024-New-Spring-Autumn-Wo...         14.90   \n",
       "2  https://us.shein.com/Women-s-Casual-Slip-on-Fl...          7.50   \n",
       "3  https://us.shein.com/Women-Mesh-Breathable-Cas...         12.06   \n",
       "4  https://us.shein.com/Women-s-Fashionable-Casua...         13.53   \n",
       "5  https://us.shein.com/Sporty-Chunky-Sneakers-Fo...         21.30   \n",
       "6  https://us.shein.com/Summer-Women-Casual-Sport...         14.90   \n",
       "7  https://us.shein.com/Comfortable-Thick-Soled-O...         16.90   \n",
       "8  https://us.shein.com/New-Spring-Fashionable-Ca...         22.90   \n",
       "9  https://us.shein.com/Women-Lace-Up-Casual-Shoe...         13.00   \n",
       "\n",
       "   preço marcado  classificação     cor numero de comentários  \\\n",
       "0          24.40           4.83   Khaki                    77   \n",
       "1          18.80           0.00     NaN                     0   \n",
       "2          18.80           4.92     NaN                    66   \n",
       "3          21.30           0.00  Purple                    41   \n",
       "4          17.05           0.00    Grey                  100+   \n",
       "5          26.90           0.00   White                  500+   \n",
       "6          14.90           0.00   Beige                     0   \n",
       "7          21.20           0.00   Khaki                  500+   \n",
       "8          28.80           0.00   Beige                    15   \n",
       "9          16.30           0.00     NaN                    36   \n",
       "\n",
       "  Ididentificador de sku                                     link da imagem  \n",
       "0     sx2305270713671620  //img.ltwebstatic.com/images3_spmp/2023/12/19/...  \n",
       "1     sx2404088145930048  //img.ltwebstatic.com/images3_pi/2024/04/17/55...  \n",
       "2     sx2309025401152825  //img.ltwebstatic.com/images3_pi/2023/09/04/a0...  \n",
       "3     sx2308191847675463  //img.ltwebstatic.com/images3_spmp/2023/08/19/...  \n",
       "4     sx2307234044444164  //img.ltwebstatic.com/images3_spmp/2023/12/31/...  \n",
       "5     sx2211274466519128  //img.ltwebstatic.com/images3_pi/2023/04/07/16...  \n",
       "6     st2404138888746786  //img.ltwebstatic.com/images3_spmp/2024/04/13/...  \n",
       "7     sx2310298141659915  //img.ltwebstatic.com/images3_pi/2024/04/16/1a...  \n",
       "8     sx2401318579349193  //img.ltwebstatic.com/images3_spmp/2024/01/31/...  \n",
       "9     sx2302128416011119  //img.ltwebstatic.com/images3_pi/2023/02/13/16...  "
      ]
     },
     "execution_count": 20,
     "metadata": {},
     "output_type": "execute_result"
    }
   ],
   "source": [
    "#to verify the processes document\n",
    "df.head(10)"
   ]
  },
  {
   "cell_type": "code",
   "execution_count": 21,
   "metadata": {},
   "outputs": [
    {
     "data": {
      "image/png": "[encoded data removed]",
      "text/plain": [
       "<Figure size 640x480 with 1 Axes>"
      ]
     },
     "metadata": {},
     "output_type": "display_data"
    }
   ],
   "source": [
    "#Build a function to categorize prices, that iterates through each value \n",
    "#of each column, applying conditionals that will return info to categorize those\n",
    "#prices in a range. The rage function was used instead of operators to \n",
    "#make the code more clean and concise. \n",
    "\n",
    "def categorizar_preco(valor):\n",
    "    if valor > 59:\n",
    "        return \"60,00+ USD\"\n",
    "    if valor in range(29,58):\n",
    "        return \"30.00 até 60.00 USD\"\n",
    "    if valor in range(19,28):\n",
    "        return \"20.00 até 30.00 USD\"\n",
    "    if valor in range(9,18):\n",
    "        return \"10.00 até 20.00 USD\"\n",
    "    else:\n",
    "        return \"1.00 até 9.00 USD\"\n",
    "\n",
    "\n",
    "#Apply the function created to the preco variable\n",
    "preco = df[\"preço marcado\"].apply(categorizar_preco)\n",
    "#count the values, organizing them in this variable below\n",
    "preco_contagem = preco.value_counts().sort_index()\n",
    "\n",
    "#create chart from the variable storing the price count\n",
    "preco_contagem.plot(kind='bar', edgecolor='purple', color='purple')\n",
    "\n",
    "#configure the chart\n",
    "plt.xticks(rotation=45) #change the angle of the ticks to 45º for better \n",
    "#vizualization\n",
    "plt.xlabel(\"Preço\")\n",
    "plt.ylabel(\"Quantidade\")\n",
    "plt.title(\"Número comentários por faixa de preço de anuncio de sapatos\")\n",
    "plt.show()"
   ]
  },
  {
   "cell_type": "markdown",
   "metadata": {},
   "source": [
    "From the chart above, we can see the correlation between the engagement and price. The price range of $1.00 to $9.00 USD footwear have overwhelmingly more comments than the other price ranges."
   ]
  },
  {
   "cell_type": "code",
   "execution_count": 22,
   "metadata": {},
   "outputs": [
    {
     "name": "stdout",
     "output_type": "stream",
     "text": [
      "Correlação de Spearman: -0.1532955254945988\n",
      "Valor p: 0.002432060084467862\n"
     ]
    },
    {
     "data": {
      "image/png": "[encoded data removed]",
      "text/plain": [
       "<Figure size 640x480 with 1 Axes>"
      ]
     },
     "metadata": {},
     "output_type": "display_data"
    }
   ],
   "source": [
    "\n",
    "#For this two colour analyzed have the same lenght, otherwise spearmanr function will not work\n",
    "df_cleaned = df[[\"preço marcado\", \"numero de comentários\"]].dropna()\n",
    "\n",
    "#Convert \"numero de comentários\" to numeric for safety\n",
    "df_cleaned[\"numero de comentários\"] = pd.to_numeric(df_cleaned[\"numero de comentários\"], errors='coerce')\n",
    "\n",
    "#Drop rows with missing values again (if conversion introduced new Null Values)\n",
    "df_cleaned = df_cleaned.dropna()\n",
    "\n",
    "#store in a variable the columns I want to work with\n",
    "preco = df_cleaned[\"preço marcado\"]\n",
    "comentarios = df_cleaned[\"numero de comentários\"]\n",
    "\n",
    "#spearman test\n",
    "correlation, valor_p = spearmanr(preco, comentarios)\n",
    "print(\"Correlação de Spearman:\", correlation)\n",
    "print(\"Valor p:\", valor_p)\n",
    "\n",
    "#Chart\n",
    "sns.scatterplot(x=\"preço marcado\", y=\"numero de comentários\", data=df_cleaned)\n",
    "plt.title(\"Gráfico de Dispersão: Preço Marcado vs Número de Comentários\")\n",
    "plt.xlabel(\"Preço Marcado\")\n",
    "plt.ylabel(\"Número de Comentários\")\n",
    "plt.show()"
   ]
  },
  {
   "cell_type": "markdown",
   "metadata": {},
   "source": [
    "From the scatter plot and the chart above, we observe a clear trend: customer engagement (measured by the number of comments) is significantly higher for low to average-priced shoes compared to higher-priced ones. This suggests that consumers in this e-commerce sub-segment of footwear are more likely to interact with and discuss affordable products.\n",
    "\n",
    "The higher engagement for low to average-priced shoes may indicate a consumer solidarity mentality. Shoppers on platforms like Shein, where affordability is a key driver, might be more inclined to share their experiences when they find products that exceed their expectations in terms of durability, design, or value for money.\n",
    "\n",
    "The data suggests that price sensitivity plays a significant role in customer engagement. Consumers are more likely to engage with products that align with their budget expectations, which in this case, are lower-priced items.\n",
    "\n",
    "Highlighting affordability and value in product descriptions and marketing campaigns could further boost engagement and sales.\n",
    "\n",
    "Encouraging customers to leave reviews or comments, especially for low to average-priced items, could enhance the sense of community and trust among shoppers.\n",
    "\n",
    "This analysis provides valuable insights into customer engagement within the low to average-priced footwear segment. By understanding the factors driving this behavior, sellers can tailor their strategies to better meet customer expectations and foster a more interactive and loyal customer base."
   ]
  }
 ],
 "metadata": {
  "kernelspec": {
   "display_name": "Python 3",
   "language": "python",
   "name": "python3"
  },
  "language_info": {
   "codemirror_mode": {
    "name": "ipython",
    "version": 3
   },
   "file_extension": ".py",
   "mimetype": "text/x-python",
   "name": "python",
   "nbconvert_exporter": "python",
   "pygments_lexer": "ipython3",
   "version": "3.12.4"
  }
 },
 "nbformat": 4,
 "nbformat_minor": 2
}
